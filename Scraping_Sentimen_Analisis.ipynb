{
  "cells": [
    {
      "cell_type": "markdown",
      "metadata": {
        "id": "view-in-github",
        "colab_type": "text"
      },
      "source": [
        "<a href=\"https://colab.research.google.com/github/NibroosAbrar/Sentimen-Analysis-Dana-Platform/blob/main/Scraping_Sentimen_Analisis.ipynb\" target=\"_parent\"><img src=\"https://colab.research.google.com/assets/colab-badge.svg\" alt=\"Open In Colab\"/></a>"
      ]
    },
    {
      "cell_type": "code",
      "source": [
        "# Mount Google Drive\n",
        "import os\n",
        "from google.colab import drive\n",
        "drive.mount('/content/drive')\n",
        "\n",
        "loc = '/content/drive/My Drive'\n",
        "os.chdir(loc)\n",
        "\n",
        "os.getcwd()"
      ],
      "metadata": {
        "id": "dpaM03POaxLn"
      },
      "execution_count": 8,
      "outputs": []
    },
    {
      "cell_type": "code",
      "source": [
        "!pip install google-play-scraper langdetect\n",
        "!pip freeze > requirements.txt"
      ],
      "metadata": {
        "colab": {
          "base_uri": "https://localhost:8080/"
        },
        "id": "BJFsQLwVa0fc",
        "outputId": "cb229b5e-df41-458a-f443-7a221690c63d"
      },
      "execution_count": 9,
      "outputs": [
        {
          "output_type": "stream",
          "name": "stdout",
          "text": [
            "Requirement already satisfied: google-play-scraper in /usr/local/lib/python3.11/dist-packages (1.2.7)\n",
            "Requirement already satisfied: langdetect in /usr/local/lib/python3.11/dist-packages (1.0.9)\n",
            "Requirement already satisfied: six in /usr/local/lib/python3.11/dist-packages (from langdetect) (1.17.0)\n"
          ]
        }
      ]
    },
    {
      "cell_type": "code",
      "execution_count": 10,
      "metadata": {
        "id": "uRz_X6x-ambr"
      },
      "outputs": [],
      "source": [
        "import requests\n",
        "import pandas as pd\n",
        "from google_play_scraper import app, reviews, Sort, reviews_all\n",
        "import json\n",
        "from langdetect import detect\n",
        "from langdetect import DetectorFactory\n",
        "import re\n",
        "from tqdm import tqdm\n",
        "import time"
      ]
    },
    {
      "cell_type": "code",
      "execution_count": 11,
      "metadata": {
        "id": "K6qbNfxAambw"
      },
      "outputs": [],
      "source": [
        "def scrape_playstore(app_id, target_count=100000):\n",
        "    # Get reviews directly\n",
        "    result, _ = reviews(\n",
        "        app_id,\n",
        "        lang='id',\n",
        "        country='id',\n",
        "        sort=Sort.MOST_RELEVANT,\n",
        "        count=target_count\n",
        "    )\n",
        "\n",
        "    # Convert to DataFrame\n",
        "    df = pd.DataFrame(result)\n",
        "    return df"
      ]
    },
    {
      "cell_type": "code",
      "execution_count": 12,
      "metadata": {
        "id": "Pb3rrq5eambw"
      },
      "outputs": [],
      "source": [
        "# Set the app ID for scraping\n",
        "app_id = \"id.dana\"  # Replace with the desired app ID"
      ]
    },
    {
      "cell_type": "code",
      "execution_count": 13,
      "metadata": {
        "id": "bjN44ELLambx"
      },
      "outputs": [],
      "source": [
        "# Run scraping process\n",
        "reviews_data = scrape_playstore(app_id, 100000)"
      ]
    },
    {
      "cell_type": "code",
      "execution_count": 14,
      "metadata": {
        "id": "E6aDZ_Lmambx"
      },
      "outputs": [],
      "source": [
        "# Convert to DataFrame and save as CSV\n",
        "df = pd.DataFrame(reviews_data)\n",
        "df.to_csv(f\"hasil_scraping_{app_id}.csv\", index=False, encoding='utf-8')"
      ]
    },
    {
      "cell_type": "code",
      "execution_count": 15,
      "metadata": {
        "colab": {
          "base_uri": "https://localhost:8080/"
        },
        "id": "6Qf9LsHcamby",
        "outputId": "829ee95c-f172-4384-e24d-1bef0d157ca1"
      },
      "outputs": [
        {
          "output_type": "stream",
          "name": "stdout",
          "text": [
            "Successfully scraped 100000 reviews\n"
          ]
        }
      ],
      "source": [
        "print(f\"Successfully scraped {len(reviews_data)} reviews\")"
      ]
    }
  ],
  "metadata": {
    "kernelspec": {
      "display_name": "venv",
      "language": "python",
      "name": "python3"
    },
    "language_info": {
      "codemirror_mode": {
        "name": "ipython",
        "version": 3
      },
      "file_extension": ".py",
      "mimetype": "text/x-python",
      "name": "python",
      "nbconvert_exporter": "python",
      "pygments_lexer": "ipython3",
      "version": "3.10.6"
    },
    "colab": {
      "provenance": [],
      "include_colab_link": true
    }
  },
  "nbformat": 4,
  "nbformat_minor": 0
}